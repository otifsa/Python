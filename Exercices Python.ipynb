{
 "cells": [
  {
   "cell_type": "markdown",
   "metadata": {},
   "source": [
    "#  Exercies Proposes sur le language Python."
   ]
  },
  {
   "cell_type": "markdown",
   "metadata": {},
   "source": [
    "### Exercice 1: Programme qui permet de determiner le signe d'un entier.(on gere le cas de zero)."
   ]
  },
  {
   "cell_type": "code",
   "execution_count": null,
   "metadata": {},
   "outputs": [],
   "source": [
    "a=input(\"Donner un entier: \")\n",
    "if a>0:\n",
    "    print(\"Positif\")\n",
    "elif a==0:\n",
    "    print(\"Null\")\n",
    "else:\n",
    "    print(\"Negatif\")"
   ]
  },
  {
   "cell_type": "markdown",
   "metadata": {},
   "source": [
    "### Exercice 2: Programme qui permet de determiner la veleur absoule d'un entier."
   ]
  },
  {
   "cell_type": "code",
   "execution_count": null,
   "metadata": {},
   "outputs": [],
   "source": [
    "a=input(\"Donner un entier: \")\n",
    "if a>0:\n",
    "    print(a)\n",
    "else:\n",
    "    print(-a)"
   ]
  },
  {
   "cell_type": "markdown",
   "metadata": {},
   "source": [
    "### Exercice 3: Programme qui permet determiner le max de deux nombres."
   ]
  },
  {
   "cell_type": "code",
   "execution_count": 1,
   "metadata": {},
   "outputs": [
    {
     "name": "stdout",
     "output_type": "stream",
     "text": [
      "Donner le nombre 1 : 12\n",
      "Donner le nombre 2 : 13\n",
      "La max deux nombres:  13\n"
     ]
    }
   ],
   "source": [
    "a=input(\"Donner le nombre 1 : \")\n",
    "b=input(\"Donner le nombre 2 : \")\n",
    "if a>=b: \n",
    "    max=a\n",
    "else:\n",
    "    max=b\n",
    "print \"La max de deux nombres: \",max"
   ]
  },
  {
   "cell_type": "markdown",
   "metadata": {},
   "source": [
    "### Exercice 4: Programme qui permet de determiner le max trois nombres."
   ]
  },
  {
   "cell_type": "code",
   "execution_count": 2,
   "metadata": {},
   "outputs": [
    {
     "name": "stdout",
     "output_type": "stream",
     "text": [
      "Donner le nombre 1 : 12\n",
      "Donner le nombre 2 : 13\n",
      "Donner le nombre 3 : 14\n",
      "La max de trois nombres:  14\n"
     ]
    }
   ],
   "source": [
    "a=input(\"Donner le nombre 1 : \")\n",
    "b=input(\"Donner le nombre 2 : \")\n",
    "c=input(\"Donner le nombre 3 : \")\n",
    "if a>=b:\n",
    "    max1=a\n",
    "else:\n",
    "    max1=b\n",
    "if c>=max1:\n",
    "    max=c\n",
    "else:\n",
    "    max=max1\n",
    "print \"La max de trois nombres: \",max"
   ]
  },
  {
   "cell_type": "markdown",
   "metadata": {},
   "source": [
    "### Exercice 5: Programme qui permet de resoudre l'equation de premier degree."
   ]
  },
  {
   "cell_type": "code",
   "execution_count": 7,
   "metadata": {},
   "outputs": [
    {
     "name": "stdout",
     "output_type": "stream",
     "text": [
      "Ce programme sert a resoudre l'equation de premier degree.\n",
      "Donner le nombre 1 : 12\n",
      "Donner le nombre 2 : 34\n",
      "la solution est: -2.83333333333\n"
     ]
    }
   ],
   "source": [
    "print(\"Ce programme sert a resoudre l'equation de premier degree.\")\n",
    "a=input(\"Donner le nombre 1 : \")\n",
    "b=input(\"Donner le nombre 2 : \")\n",
    "if a==0:\n",
    "    if b==0:\n",
    "        print(\"L'equation admet une infinte de solutions.\")\n",
    "    else:\n",
    "        print(\"L'equation n'admet pas une solution.\")\n",
    "else:\n",
    "    x=float(-b)/float(a)\n",
    "    print \"la solution est: \",x\n"
   ]
  },
  {
   "cell_type": "markdown",
   "metadata": {},
   "source": [
    "### Exercice 6: Programme qui permet de determiner si l'utlisateur mineur ou majeur."
   ]
  },
  {
   "cell_type": "code",
   "execution_count": 8,
   "metadata": {},
   "outputs": [
    {
     "name": "stdout",
     "output_type": "stream",
     "text": [
      "Donner votre age: 12\n",
      "Mineur\n"
     ]
    }
   ],
   "source": [
    "age=input(\"Donner votre age: \")\n",
    "if age>=18:\n",
    "    print(\"Majeur\")\n",
    "else:\n",
    "    print(\"Mineur\")"
   ]
  },
  {
   "cell_type": "markdown",
   "metadata": {},
   "source": [
    "### Exercice 7: Age."
   ]
  },
  {
   "cell_type": "code",
   "execution_count": 10,
   "metadata": {},
   "outputs": [
    {
     "name": "stdout",
     "output_type": "stream",
     "text": [
      "Donner l'age de l'enfant : 18\n",
      "Cadet.\n"
     ]
    }
   ],
   "source": [
    "age=input(\"Donner l'age de l'enfant : \")\n",
    "if 6<=age<=7:\n",
    "    print(\"Poussin.\")\n",
    "elif 8<=age<=9:\n",
    "    print(\"Pupille.\")\n",
    "elif 10<=age<=11:\n",
    "    print(\"Minime.\")\n",
    "elif 12<=age:\n",
    "    print(\"Cadet.\")"
   ]
  },
  {
   "cell_type": "markdown",
   "metadata": {},
   "source": [
    "### Exercice 8: Programme qui permet de calculer la facteure de l'electricite."
   ]
  },
  {
   "cell_type": "code",
   "execution_count": 14,
   "metadata": {},
   "outputs": [
    {
     "name": "stdout",
     "output_type": "stream",
     "text": [
      "Donner votre consommation: 123\n",
      "La facture est:  2200\n"
     ]
    }
   ],
   "source": [
    "con=input(\"Donner votre consommation: \")\n",
    "if con < 10:\n",
    "    fac=4*con\n",
    "elif 10<=con<20:\n",
    "    fac=(con-10)*10+4*10.\n",
    "else:\n",
    "    fac=(con-20)*20+10*10+4*10\n",
    "print \"La facture est: \",fac"
   ]
  },
  {
   "cell_type": "markdown",
   "metadata": {},
   "source": [
    "### Exercice 9: Programme qui permet de calculer le cout de photocopie."
   ]
  },
  {
   "cell_type": "code",
   "execution_count": 19,
   "metadata": {},
   "outputs": [
    {
     "name": "stdout",
     "output_type": "stream",
     "text": [
      "Donner le nombre de copies: 12\n",
      "Le cout est: 2.4 DH\n"
     ]
    }
   ],
   "source": [
    "nb=input(\"Donner le nombre de copies: \")\n",
    "if nb < 10:\n",
    "    cout = nb*0.50\n",
    "elif 10<=con<50:\n",
    "    cout = nb*0.30\n",
    "else:\n",
    "    cout = nb*0.20\n",
    "print \"Le cout est:\",cout,\"DH\""
   ]
  },
  {
   "cell_type": "markdown",
   "metadata": {},
   "source": [
    "### Exercice 10: Programme qui permet de resoudre l'eqation de seconde degree."
   ]
  },
  {
   "cell_type": "code",
   "execution_count": 29,
   "metadata": {},
   "outputs": [
    {
     "name": "stdout",
     "output_type": "stream",
     "text": [
      "Ce programme sert a resoudre l'equation de seconde degree.\n",
      "Donner le nombre 1 : 12\n",
      "Donner le nombre 2 : -23\n",
      "Donner le nombre 3 : 2\n",
      "les solutions sont:  1.83 0.09\n"
     ]
    }
   ],
   "source": [
    "import math\n",
    "print(\"Ce programme sert a resoudre l'equation de seconde degree.\")\n",
    "a=float(input(\"Donner le nombre 1 : \"))\n",
    "b=float(input(\"Donner le nombre 2 : \"))\n",
    "c=float(input(\"Donner le nombre 3 : \"))\n",
    "delta = b**2-4*a*c\n",
    "if delta > 0:\n",
    "    x1= (-b+math.sqrt(delta))/(2*a)\n",
    "    x2= (-b-math.sqrt(delta))/(2*a)\n",
    "    print \"les solutions sont: \",round(x1,2),round(x2,2)\n",
    "elif delta==0:\n",
    "    x=-b/(2*a)\n",
    "    print \"La solution est: \",x\n",
    "else:\n",
    "    print(\"L'equation n'a pas de solution.\")"
   ]
  },
  {
   "cell_type": "markdown",
   "metadata": {},
   "source": [
    "### Exercice 11: Programme Salarie."
   ]
  },
  {
   "cell_type": "code",
   "execution_count": null,
   "metadata": {},
   "outputs": [],
   "source": [
    "nb=input(\"Donner le nombre des heures: \")\n",
    "sh=float(input(\"Donner le salaire horaire: \"))\n",
    "if nb > 35:\n",
    "    salaire = (nb-35)*150/50*sh + nb*sh\n",
    "else:\n",
    "    salaire = nb*sh\n",
    "print \"Le salaire est: \",round(salaire,2)"
   ]
  },
  {
   "cell_type": "markdown",
   "metadata": {},
   "source": [
    "### Exercice 12: \n",
    "Les habitants de Zorglub paient l’impôt selon les règles suivantes :\n",
    "· les hommes de plus de 20 ans paient l’impôt\n",
    "· les femmes paient l’impôt si elles ont entre 18 et 35 ans\n",
    "· les autres ne paient pas d’impôt\n",
    "Le programme demandera donc l’âge et le sexe du Zorglubien, et se\n",
    "prononcera donc ensuite sur le\n",
    "fait que l’habitant est imposable."
   ]
  },
  {
   "cell_type": "code",
   "execution_count": 4,
   "metadata": {},
   "outputs": [
    {
     "name": "stdout",
     "output_type": "stream",
     "text": [
      "Donner le sexe (H/F): F\n",
      "Donner l'age: 20\n",
      "Paie\n"
     ]
    }
   ],
   "source": [
    "sexe=raw_input(\"Donner le sexe (H/F): \")\n",
    "age=input(\"Donner l'age: \")\n",
    "if sexe=='H' and age > 20:\n",
    "    print(\"Paie\")\n",
    "elif sexe=='F' and 18<=age<=35:\n",
    "    print(\"Paie\")\n",
    "else:\n",
    "    print(\"Ne paie pas.\")"
   ]
  },
  {
   "cell_type": "markdown",
   "metadata": {},
   "source": [
    "### Exercice 13: \n",
    "Écrire un programme qui demande à l'utilisateur de taper une valeur et tester si la valeur est paire ou impaire."
   ]
  },
  {
   "cell_type": "code",
   "execution_count": 6,
   "metadata": {},
   "outputs": [
    {
     "name": "stdout",
     "output_type": "stream",
     "text": [
      "Donner un nombre: 19\n",
      "Impair.\n"
     ]
    }
   ],
   "source": [
    "n=input(\"Donner un nombre: \")\n",
    "if n%2==0:\n",
    "    print(\"Pair.\")\n",
    "else:\n",
    "    print(\"Impair.\")"
   ]
  },
  {
   "cell_type": "markdown",
   "metadata": {},
   "source": [
    "### Exercice 14: \n",
    "Écrire un programme qui demande à l'utilisateur de taper la note d'un stagiaire et afficher après sa mention."
   ]
  },
  {
   "cell_type": "code",
   "execution_count": 9,
   "metadata": {},
   "outputs": [
    {
     "name": "stdout",
     "output_type": "stream",
     "text": [
      "Donner votre note: 17\n",
      "Tres bien.\n"
     ]
    }
   ],
   "source": [
    "note=input(\"Donner votre note: \")\n",
    "if note < 10 :\n",
    "    print(\"Redouble.\")\n",
    "elif 10<=note<12:\n",
    "    print(\"Passable.\")\n",
    "elif 12<=note<14:\n",
    "    print(\"Assez-bien.\")\n",
    "elif 14<=note<16:\n",
    "    print(\"Bien.\")\n",
    "elif 16<=note:\n",
    "    print(\"Tres bien.\")"
   ]
  },
  {
   "cell_type": "markdown",
   "metadata": {},
   "source": [
    "### Exercice 15: \n",
    "Etablir un programme qui permet de : \n",
    "- Saisir le prix HT de l'article: PHT.\n",
    "- Saisir le nombre d'articles achetés: N.\n",
    "- Si le prix PTHT>5000 prévoir une remise de 10%.\n",
    "- Calculer et afficher le prix total TTC: PTTC ; TVA=20%."
   ]
  },
  {
   "cell_type": "code",
   "execution_count": 1,
   "metadata": {},
   "outputs": [
    {
     "name": "stdout",
     "output_type": "stream",
     "text": [
      "Saisir le prix HT de l'article: 12\n",
      "Saisir le nombre d'articles achetes: 34\n",
      "Le prix totale est:  489.6\n"
     ]
    }
   ],
   "source": [
    "PHT=float(input(\"Saisir le prix HT de l'article: \"))\n",
    "N=input(\"Saisir le nombre d'articles achetes: \")\n",
    "PTHT=PHT*N\n",
    "if PTHT>5000:\n",
    "    PTHT=PTHT-PTHT*10/100\n",
    "PTHT=PTHT+PTHT*20/100\n",
    "print \"Le prix totale est: \",round(PTHT,2)"
   ]
  },
  {
   "cell_type": "markdown",
   "metadata": {},
   "source": [
    "### Exercice 16: \n",
    "Ecrire un algorithme qui demande deux nombres à l’utilisateur et l’informe ensuite si leur produit est négatif ou positif.\n",
    "Attention toutefois : on ne doit pas calculer le produit des deux nombres."
   ]
  },
  {
   "cell_type": "code",
   "execution_count": 3,
   "metadata": {},
   "outputs": [
    {
     "name": "stdout",
     "output_type": "stream",
     "text": [
      "Donner nombre 1: 12\n",
      "Donner nombre 2: -23\n",
      "Le produit negatif.\n"
     ]
    }
   ],
   "source": [
    "a=input(\"Donner nombre 1: \")\n",
    "b=input(\"Donner nombre 2: \")\n",
    "if (a>0 and b>0) or (a<0 and b<0) :\n",
    "    print(\"Le produit positif.\")\n",
    "else:\n",
    "    print(\"Le produit negatif.\")"
   ]
  },
  {
   "cell_type": "markdown",
   "metadata": {},
   "source": [
    "### Exercice 17:\n",
    "Ecrire un algorithme qui demande à l’utilisateur un nombre compris entre 1 et 3 jusqu’à ce que la réponse convienne."
   ]
  },
  {
   "cell_type": "code",
   "execution_count": 5,
   "metadata": {},
   "outputs": [
    {
     "name": "stdout",
     "output_type": "stream",
     "text": [
      "donner un nombre: -9\n",
      "donner un nombre: 12\n",
      "donner un nombre: 33\n",
      "donner un nombre: -93\n",
      "donner un nombre: 2\n",
      "OK.\n"
     ]
    }
   ],
   "source": [
    "a=input(\"donner un nombre: \")\n",
    "while a<1 or a>3:\n",
    "    a=input(\"Donner un nombre: \")\n",
    "print(\"OK.\")"
   ]
  },
  {
   "cell_type": "markdown",
   "metadata": {},
   "source": [
    "### Exercice 18:\n",
    "Ecrire un algorithme qui demande un nombre compris entre 10 et 20, jusqu’à ce que la réponse convienne.\n",
    "En cas de réponse supérieure à 20, on fera apparaître un message : « Plus petit ! », et inversement, « Plus grand ! » si le nombre est inférieur à 10."
   ]
  },
  {
   "cell_type": "code",
   "execution_count": 7,
   "metadata": {},
   "outputs": [
    {
     "name": "stdout",
     "output_type": "stream",
     "text": [
      "donner un nombre: 98\n",
      "Plus Petit: 0\n",
      "Plus Grand: 2\n",
      "Plus Grand: 15\n"
     ]
    }
   ],
   "source": [
    "a=input(\"donner un nombre: \")\n",
    "while a<10 or a>20:\n",
    "    if a<10:\n",
    "        a=input(\"Plus Grand: \")\n",
    "    else:\n",
    "        a=input(\"Plus Petit: \")"
   ]
  },
  {
   "cell_type": "markdown",
   "metadata": {},
   "source": [
    "### Exercice 19: \n",
    "Ecrire un algorithme qui demande un nombre de départ, et qui ensuite affiche les dix nombres suivants."
   ]
  },
  {
   "cell_type": "code",
   "execution_count": 8,
   "metadata": {},
   "outputs": [
    {
     "name": "stdout",
     "output_type": "stream",
     "text": [
      "Donner un entier: 12\n",
      "La somme est:  187\n"
     ]
    }
   ],
   "source": [
    "n=input(\"Donner un entier: \")\n",
    "s=0\n",
    "for i in range(n,n+11):\n",
    "    s+=i\n",
    "print \"La somme est: \",s"
   ]
  },
  {
   "cell_type": "markdown",
   "metadata": {},
   "source": [
    "### Exercice 20:\n",
    "Ecrire un algorithme qui demande un nombre de départ, et qui ensuite écrit la table de multiplication de ce nombre."
   ]
  },
  {
   "cell_type": "code",
   "execution_count": 9,
   "metadata": {},
   "outputs": [
    {
     "name": "stdout",
     "output_type": "stream",
     "text": [
      "Donner un entier: 3\n",
      "3 * 1 = 3\n",
      "3 * 2 = 6\n",
      "3 * 3 = 9\n",
      "3 * 4 = 12\n",
      "3 * 5 = 15\n",
      "3 * 6 = 18\n",
      "3 * 7 = 21\n",
      "3 * 8 = 24\n",
      "3 * 9 = 27\n",
      "3 * 10 = 30\n"
     ]
    }
   ],
   "source": [
    "n=input(\"Donner un entier: \")\n",
    "for i in range(1,11):\n",
    "    print n,\"*\",i,\"=\",n*i"
   ]
  },
  {
   "cell_type": "markdown",
   "metadata": {},
   "source": [
    "### Exercice 21: \n",
    "Ecrire un algorithme qui demande un nombre de départ, et qui calcule la somme des entiers jusqu’à ce nombre."
   ]
  },
  {
   "cell_type": "code",
   "execution_count": 11,
   "metadata": {},
   "outputs": [
    {
     "name": "stdout",
     "output_type": "stream",
     "text": [
      "Donner un entier: 10\n",
      "La somme est:  55\n"
     ]
    }
   ],
   "source": [
    "n=input(\"Donner un entier: \")\n",
    "s=0\n",
    "for i in range(1,n+1):\n",
    "    s+=i\n",
    "print \"La somme est: \",s"
   ]
  },
  {
   "cell_type": "markdown",
   "metadata": {},
   "source": [
    "### Exercice 22: \n",
    "Ecrire un algorithme qui demande un nombre de départ, et qui calcule sa factorielle."
   ]
  },
  {
   "cell_type": "code",
   "execution_count": 12,
   "metadata": {},
   "outputs": [
    {
     "name": "stdout",
     "output_type": "stream",
     "text": [
      "Donner un entier: 4\n",
      "La factoriel est:  24\n"
     ]
    }
   ],
   "source": [
    "n=input(\"Donner un entier: \")\n",
    "f=1\n",
    "for i in range(1,n+1):\n",
    "    f*=i\n",
    "print \"La factoriel est: \",f"
   ]
  },
  {
   "cell_type": "markdown",
   "metadata": {},
   "source": [
    "### Exercice 23:\n",
    "A la naissance de Bouchra, son grand-père Ali, lui ouvre un compte bancaire. Ensuite, à chaque anniversaire, le grand père de Bouchra verse sur son compte 1000 DH, auxquels il ajoute le double de l’âge de Bouchra. Par exemple, lorsqu’elle a deux ans, il lui verse 1004 DH. Ecrire un algorithme qui permette de déterminer quelle somme aura Bouchra lors de son n-ième anniversaire."
   ]
  },
  {
   "cell_type": "code",
   "execution_count": 18,
   "metadata": {},
   "outputs": [
    {
     "name": "stdout",
     "output_type": "stream",
     "text": [
      "Donner l'age de Bouchra: 2\n",
      "Le solde de compte est:  1004.0 DH\n"
     ]
    }
   ],
   "source": [
    "age=input(\"Donner l'age de Bouchra: \")\n",
    "solde=0\n",
    "for i in range(1,age):\n",
    "    solde+=solde+1000+age*2\n",
    "print \"Le solde de compte est: \",round(solde,2),\"DH\""
   ]
  },
  {
   "cell_type": "markdown",
   "metadata": {},
   "source": [
    "### Exercice 24: \n",
    "La population des Sims Alpha est de 10, 000, 000 d’habitants et elle augmente de 500, 000 habitants par an. Celle des Sims Beta est de 5, 000, 000 habitants et elle augmente de 3% par an. Ecrire un algorithme permettant de déterminer dans combien d’années la population de Sims Beta dépassera celle des Sims Alpha."
   ]
  },
  {
   "cell_type": "code",
   "execution_count": 4,
   "metadata": {},
   "outputs": [
    {
     "name": "stdout",
     "output_type": "stream",
     "text": [
      "La population de alpha est: 48500000 \n",
      "La population de beta est: 48689611.204\n",
      "Le nombre d'annee est: 77\n"
     ]
    }
   ],
   "source": [
    "pa=10000000\n",
    "pb=5000000\n",
    "c=0\n",
    "while pa>pb:\n",
    "    pa+=500000\n",
    "    pb+=pb*0.03\n",
    "    c+=1\n",
    "print \"La population de alpha est:\",pa,\"\\nLa population de beta est:\",pb\n",
    "print \"Le nombre d'annee est:\",c"
   ]
  },
  {
   "cell_type": "markdown",
   "metadata": {},
   "source": [
    "### Exercice 25:\n",
    "Ecrivez un programme qui lit deux valeurs entières (A et B) au clavier et qui affiche le signe de la somme de A et B sans faire l'addition."
   ]
  },
  {
   "cell_type": "code",
   "execution_count": 9,
   "metadata": {},
   "outputs": [
    {
     "name": "stdout",
     "output_type": "stream",
     "text": [
      "Donner nombre 1: 13\n",
      "Donner nombre 2: -11\n",
      "Positif.\n"
     ]
    }
   ],
   "source": [
    "A=input(\"Donner nombre 1: \")\n",
    "B=input(\"Donner nombre 2: \")\n",
    "if((A>0 and B>0) or (A>0 and B<0 and abs(A)>abs(B) or (A<0 and B>0 and abs(A)<abs(B)))):\n",
    "   print(\"Positif.\")\n",
    "elif((A<0 and B<0) or (A>0 and B<0 and abs(A)<abs(B) or (A<0 and B>0 and abs(A)>abs(B)))):\n",
    "        print(\"Negatif\")"
   ]
  },
  {
   "cell_type": "markdown",
   "metadata": {},
   "source": [
    "### Exercice 26:\n",
    "Calculez par multiplications successives XN de deux entiers naturels X et N entrés au clavier."
   ]
  },
  {
   "cell_type": "code",
   "execution_count": 10,
   "metadata": {},
   "outputs": [
    {
     "name": "stdout",
     "output_type": "stream",
     "text": [
      "Donner nombre 1: 12\n",
      "Donner nombre 2: 2\n",
      "144\n"
     ]
    }
   ],
   "source": [
    "x=input(\"Donner nombre 1: \")\n",
    "n=input(\"Donner nombre 2: \")\n",
    "p=1\n",
    "for i in range(1,n+1):\n",
    "   p*=x\n",
    "print(p)"
   ]
  },
  {
   "cell_type": "markdown",
   "metadata": {},
   "source": [
    "### Exercice 27: \n",
    "Calculez la somme des N premiers termes de la série harmonique."
   ]
  },
  {
   "cell_type": "code",
   "execution_count": 15,
   "metadata": {},
   "outputs": [
    {
     "name": "stdout",
     "output_type": "stream",
     "text": [
      "Donner un entier: 100\n",
      "La somme harmonique est:  1.0\n"
     ]
    }
   ],
   "source": [
    "n=input(\"Donner un entier: \")\n",
    "s=float(0)\n",
    "for i in range(1,n+1):\n",
    "    s=s+float(1/i)\n",
    "print \"La somme harmonique est: \",s"
   ]
  },
  {
   "cell_type": "markdown",
   "metadata": {},
   "source": [
    "### Exercice 28: Propose par Fatima BAALA.\n",
    "Ecrire un programme qui permet de simuler la machine a laver,Si la masse de linge est inferieur a 5 il faut executer 3 tours si non if faut executer 6 tours."
   ]
  },
  {
   "cell_type": "code",
   "execution_count": 17,
   "metadata": {},
   "outputs": [
    {
     "name": "stdout",
     "output_type": "stream",
     "text": [
      "Donner la masse de linge: 12\n",
      "Tour 1\n",
      "Tour 2\n",
      "Tour 3\n",
      "Tour 4\n",
      "Tour 5\n",
      "Tour 6\n"
     ]
    }
   ],
   "source": [
    "m=input(\"Donner la masse de linge: \")\n",
    "if m>5:\n",
    "    for i in range(6):\n",
    "        print \"Tour\",i+1\n",
    "else:\n",
    "    for i in range(3):\n",
    "        print \"Tour\",i+1"
   ]
  },
  {
   "cell_type": "markdown",
   "metadata": {},
   "source": [
    "### Exercice 29: \n",
    "5.La banque X nous accorde un pret si la somme de vos intrets dpasse 1000 euros. L’intret est de 3.5 % par an. Voici un exemple pour vous guider dans vos affaires financires:\n",
    "Somme initiale place: 2000 euros.\n",
    "1-ire anne : intret = (2000 x 3.5)/100 = 70\n",
    "2- 2-ime anne : intret = (2070 x 3.5)/100 = 72.45 …\n",
    "On arrete quand : intret > 1000 euros."
   ]
  },
  {
   "cell_type": "code",
   "execution_count": null,
   "metadata": {},
   "outputs": [],
   "source": [
    "somme=input(\"Donner la somme initiale: \")\n",
    "intret=0\n",
    "while intret < 2000:\n",
    "    intret=somme*3.5/100\n",
    "    somme=+intret\n",
    "print \"La somme est:\",somme,\"intret:\",intret"
   ]
  },
  {
   "cell_type": "markdown",
   "metadata": {},
   "source": [
    "### Exercice 30: \n",
    "Ecrire un programme qui permet déterminer qu’un entier est premier. "
   ]
  },
  {
   "cell_type": "code",
   "execution_count": 10,
   "metadata": {},
   "outputs": [
    {
     "name": "stdout",
     "output_type": "stream",
     "text": [
      "Donner un entier: 191\n",
      "Prime.\n"
     ]
    }
   ],
   "source": [
    "import math \n",
    "n=input(\"Donner un entier: \")\n",
    "sq=int(math.sqrt(n))\n",
    "for i in range(sq,0,-1):\n",
    "    if n%i==0:\n",
    "        break\n",
    "if i==1:\n",
    "    print(\"Prime.\")\n",
    "else:\n",
    "    print(\"Not prime.\")"
   ]
  },
  {
   "cell_type": "markdown",
   "metadata": {},
   "source": [
    "### Exercice 31: \n",
    "Ecrire un algorithme qui permet de réaliser la division deux entiers sans utiliser le symbole de /."
   ]
  },
  {
   "cell_type": "code",
   "execution_count": 22,
   "metadata": {},
   "outputs": [
    {
     "name": "stdout",
     "output_type": "stream",
     "text": [
      "Donner un entier: 12\n",
      "Donner un entier: 5\n",
      "Le quotient est: 2 \n",
      "Le reste est: 2\n"
     ]
    }
   ],
   "source": [
    "a=input(\"Donner un entier: \")\n",
    "b=input(\"Donner un entier: \")\n",
    "r,q=0,0\n",
    "while a>=b:\n",
    "    a=a-b\n",
    "    q+=1\n",
    "r=a\n",
    "print \"Le quotient est:\",q,\"\\nLe reste est:\",r"
   ]
  },
  {
   "cell_type": "markdown",
   "metadata": {},
   "source": [
    "### Exercice 32: \n",
    "Ecrire un programme qui permet de déterminer le PGCD de deux entiers. "
   ]
  },
  {
   "cell_type": "code",
   "execution_count": 16,
   "metadata": {},
   "outputs": [
    {
     "name": "stdout",
     "output_type": "stream",
     "text": [
      "Donner un entier: 20\n",
      "Donner un entier: 5\n",
      "5\n"
     ]
    }
   ],
   "source": [
    "a=input(\"Donner un entier: \")\n",
    "b=input(\"Donner un entier: \")\n",
    "if b==0:\n",
    "    pgcd=a\n",
    "elif b==1:\n",
    "    pgcd=1\n",
    "else:\n",
    "    r=0\n",
    "    while r!=1:\n",
    "        r=a%b\n",
    "        if(r==0):\n",
    "            pgcd=b\n",
    "            break\n",
    "        a=b\n",
    "        b=r\n",
    "        pgcd=r\n",
    "print(pgcd)"
   ]
  },
  {
   "cell_type": "markdown",
   "metadata": {},
   "source": [
    "### Exercice 33:\n",
    "Ecrire un programme qui permet de déterminer qu’un nombre est parfait.\n"
   ]
  },
  {
   "cell_type": "code",
   "execution_count": 23,
   "metadata": {},
   "outputs": [
    {
     "name": "stdout",
     "output_type": "stream",
     "text": [
      "Donner un entier: 28\n",
      "Le nombre est parfait.\n"
     ]
    }
   ],
   "source": [
    "a=input(\"Donner un entier: \")\n",
    "s=0\n",
    "for i in range(1,a):\n",
    "    if a%i==0:\n",
    "        s+=i\n",
    "if s==a:\n",
    "    print \"Le nombre est parfait.\"\n",
    "else: \n",
    "    print \"Le nombre n'est pas parfait.\""
   ]
  },
  {
   "cell_type": "markdown",
   "metadata": {},
   "source": [
    "### Exercice 34:\n",
    "Ecrire un programme qui permet de calculer la somme suivante :"
   ]
  },
  {
   "cell_type": "markdown",
   "metadata": {},
   "source": [
    " <img src=\"somme.png\" alt=\"test\">."
   ]
  },
  {
   "cell_type": "markdown",
   "metadata": {},
   "source": [
    "#### Methode 1: sans utiliser la puissance. "
   ]
  },
  {
   "cell_type": "code",
   "execution_count": 29,
   "metadata": {},
   "outputs": [
    {
     "name": "stdout",
     "output_type": "stream",
     "text": [
      "Donner un entier: 4\n",
      "1\n",
      "4\n",
      "27\n",
      "256\n",
      "La somme est:  288\n"
     ]
    }
   ],
   "source": [
    "n=input(\"Donner un entier: \")\n",
    "s=0\n",
    "for i in range(1,n+1):\n",
    "    p=1\n",
    "    for j in range(1,i+1):\n",
    "       p=p*i\n",
    "    s=s+p\n",
    "print \"La somme est: \",s"
   ]
  },
  {
   "cell_type": "markdown",
   "metadata": {},
   "source": [
    "#### Methode 2: avec utliser la puissance."
   ]
  },
  {
   "cell_type": "code",
   "execution_count": 31,
   "metadata": {},
   "outputs": [
    {
     "name": "stdout",
     "output_type": "stream",
     "text": [
      "Donner un entier: 4\n",
      "La somme est:  288\n"
     ]
    }
   ],
   "source": [
    "n=input(\"Donner un entier: \")\n",
    "s=0\n",
    "for i in range(1,n+1):\n",
    "    s=s+i**i\n",
    "print \"La somme est: \",s"
   ]
  },
  {
   "cell_type": "markdown",
   "metadata": {},
   "source": [
    "### Exercice 35: \n",
    "11.Ecrire un programme qui permet de calculer ce produit:"
   ]
  },
  {
   "cell_type": "markdown",
   "metadata": {},
   "source": [
    " <img src=\"produit.png\" alt=\"test\">."
   ]
  },
  {
   "cell_type": "code",
   "execution_count": 42,
   "metadata": {},
   "outputs": [
    {
     "name": "stdout",
     "output_type": "stream",
     "text": [
      "Donner un entier: 5\n",
      "1.5\n",
      "4.0\n",
      "15.0\n",
      "72.0\n",
      "Le produit est:  72.0\n"
     ]
    }
   ],
   "source": [
    "n=input(\"Donner un entier: \")\n",
    "p=1\n",
    "for i in range(2,n+1):\n",
    "    j=float(i)\n",
    "    p=p*(j-(1/j))\n",
    "print \"Le produit est: \",p"
   ]
  },
  {
   "cell_type": "markdown",
   "metadata": {},
   "source": [
    "### Exercice 36:\n",
    "Ecrice un programme qui permet de calculer le minumum de biellets utlises pour obetnir un somme de monnaie donne. Les beillets utlise (100;50;20;10;5;1).\n"
   ]
  },
  {
   "cell_type": "code",
   "execution_count": 45,
   "metadata": {},
   "outputs": [
    {
     "name": "stdout",
     "output_type": "stream",
     "text": [
      "Donner la somme d'argent: 1500\n",
      "Le nombre de beillets des est: (100, 15 ) (50, 0 ) (20,) 0 ) (10, 0 )(5, 0 ) (1, 0 )\n"
     ]
    }
   ],
   "source": [
    "somme=input(\"Donner la somme d'argent: \")\n",
    "n1=0\n",
    "n2=0\n",
    "n3=0\n",
    "n4=0\n",
    "n5=0\n",
    "n6=0\n",
    "n1=somme/100\n",
    "somme-=n1*100\n",
    "n2=somme/50\n",
    "somme-=n2*50\n",
    "n3=somme/20\n",
    "somme-=n3*20\n",
    "n4=somme/10\n",
    "somme-=n4*10\n",
    "n5=somme/5\n",
    "somme-=n5*5\n",
    "n6=somme\n",
    "print \"Le nombre de beillets des est: (100,\",n1,\") (50,\",n2,\") (20,)\",n3,\") (10,\",n4,\")(5,\",n5,\") (1,\",n6,\")\""
   ]
  },
  {
   "cell_type": "markdown",
   "metadata": {},
   "source": [
    "### Exercice 37: Propose par Asma && Hafssa.\n",
    "Ecrire un programme qui simule un guichet bancaire. Il demande a l’utilisateur de tapper le mot de passe si il est errone trois fois le systeme bloque le compte."
   ]
  },
  {
   "cell_type": "code",
   "execution_count": 6,
   "metadata": {},
   "outputs": [
    {
     "name": "stdout",
     "output_type": "stream",
     "text": [
      "Donner votre mot de passe: 1234\n"
     ]
    }
   ],
   "source": [
    "mdpi=1234\n",
    "c=1\n",
    "mdp=input(\"Donner votre mot de passe: \")\n",
    "while mdp!=mdpi:\n",
    "    if c==3:\n",
    "        print(\"Le compte est bloque.\")\n",
    "        break\n",
    "    mpd=input(\"Donner votre mot de passe: \")\n",
    "    c=c+1"
   ]
  },
  {
   "cell_type": "markdown",
   "metadata": {},
   "source": [
    "### Exercice 38: \n",
    "Écrire le script convertir, qui effectue une conversion euros en dollars.Le programme commencera par demander à l’utilisateur d’indiquer par un caractère ’E’ ou ’$’ la devise du montant qu’il va entrer.(1 euro = 1.27 dollar)."
   ]
  },
  {
   "cell_type": "code",
   "execution_count": 1,
   "metadata": {},
   "outputs": [
    {
     "name": "stdout",
     "output_type": "stream",
     "text": [
      "Donner le devise (E/$): E\n",
      "Donner le montant: 1111\n",
      "E\n",
      "La conversion de euro vers dollar est:  874.803149606\n"
     ]
    }
   ],
   "source": [
    "devise=raw_input(\"Donner le devise (E/$): \")\n",
    "mon=float((input(\"Donner le montant: \")))\n",
    "while devise!='E' and devise!='$':\n",
    "    devise=raw_input(\"Donner le devise (E/$): \")\n",
    "    mon=float((input(\"Donner le montant: \")))\n",
    "if devise=='E':\n",
    "    dollar= mon/1.27\n",
    "    print \"La conversion de euro vers dollar est: \",dollar\n",
    "else:\n",
    "    euro=mon*1.27\n",
    "    print \"La conversion de dollar vers euro est: \",euro"
   ]
  },
  {
   "cell_type": "markdown",
   "metadata": {},
   "source": [
    "### Exercice 39: \n",
    "Ecrire un prorgarmme qui permet de calculer la somme des nombres premier compris entre 1 et n entier donne."
   ]
  },
  {
   "cell_type": "code",
   "execution_count": 40,
   "metadata": {},
   "outputs": [],
   "source": [
    "import math\n",
    "def isprime(n):\n",
    "    a=int(math.sqrt(n))\n",
    "    for j in range(2,a+1):\n",
    "        if n%j==0:\n",
    "            return False\n",
    "    return True"
   ]
  },
  {
   "cell_type": "code",
   "execution_count": 47,
   "metadata": {},
   "outputs": [
    {
     "name": "stdout",
     "output_type": "stream",
     "text": [
      "Donner un nombre: 43\n",
      "la somme est: 281\n"
     ]
    }
   ],
   "source": [
    "n=input(\"Donner un nombre: \")\n",
    "s=0\n",
    "for i in range(2,n+1):\n",
    "    if isprime(i):\n",
    "        s+=i   \n",
    "print \"la somme est:\",s"
   ]
  },
  {
   "cell_type": "markdown",
   "metadata": {},
   "source": [
    "### Exercice 40:\n",
    "Ecrire un programme qui permet de calculer la somme des multiples de 5 et 3 inferieur a 100."
   ]
  },
  {
   "cell_type": "code",
   "execution_count": 48,
   "metadata": {},
   "outputs": [
    {
     "name": "stdout",
     "output_type": "stream",
     "text": [
      "La somme est:  2418\n"
     ]
    }
   ],
   "source": [
    "s=0\n",
    "for i in range(1,101):\n",
    "    if i%3==0 or i%5==0:\n",
    "        s+=i\n",
    "print \"La somme est: \",s"
   ]
  },
  {
   "cell_type": "code",
   "execution_count": null,
   "metadata": {},
   "outputs": [],
   "source": []
  }
 ],
 "metadata": {
  "kernelspec": {
   "display_name": "Python 2",
   "language": "python",
   "name": "python2"
  },
  "language_info": {
   "codemirror_mode": {
    "name": "ipython",
    "version": 2
   },
   "file_extension": ".py",
   "mimetype": "text/x-python",
   "name": "python",
   "nbconvert_exporter": "python",
   "pygments_lexer": "ipython2",
   "version": "2.7.15"
  }
 },
 "nbformat": 4,
 "nbformat_minor": 2
}
